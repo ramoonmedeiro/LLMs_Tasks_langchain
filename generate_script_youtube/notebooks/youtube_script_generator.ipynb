{
 "cells": [
  {
   "cell_type": "code",
   "execution_count": 1,
   "metadata": {},
   "outputs": [],
   "source": [
    "import os\n",
    "from dotenv import load_dotenv, find_dotenv\n",
    "load_dotenv(find_dotenv())\n",
    "\n",
    "openai_api_key = os.getenv(\"OPENAI_API_KEY\")"
   ]
  },
  {
   "cell_type": "code",
   "execution_count": 2,
   "metadata": {},
   "outputs": [],
   "source": [
    "from langchain.utilities import WikipediaAPIWrapper\n",
    "\n",
    "wiki = WikipediaAPIWrapper()"
   ]
  },
  {
   "cell_type": "code",
   "execution_count": 3,
   "metadata": {},
   "outputs": [],
   "source": [
    "r = wiki.run(\"deep learning\")"
   ]
  },
  {
   "cell_type": "code",
   "execution_count": 8,
   "metadata": {},
   "outputs": [
    {
     "name": "stdout",
     "output_type": "stream",
     "text": [
      "Page: Deep learning\n",
      "Summary: Deep learning is the subset of machine learning methods based on artificial neural networks with representation learning. The adjective \"deep\" refers to the use of multiple layers in the network. Methods used can be either supervised, semi-supervised or unsupervised.Deep-learning architectures such as deep neural networks, deep belief networks, recurrent neural networks, convolutional neural networks and transformers have been applied to fields including computer vision, speech recognition, natural language processing, machine translation, bioinformatics, drug design, medical image analysis, climate science, material inspection and board game programs, where they have produced results comparable to and in some cases surpassing human expert performance.Artificial neural networks (ANNs) were inspired by information processing and distributed communication nodes in biological systems. ANNs have various differences from biological brains. Specifically, artificial neural networks tend to be static and symbolic, while the biological brain of most living organisms is dynamic (plastic) and analog. ANNs are generally seen as low quality models for brain function.\n",
      "\n",
      "\n",
      "\n",
      "Page: Deep reinforcement learning\n",
      "Summary: Deep reinforcement learning (deep RL) is a subfield of machine learning that combines reinforcement learning (RL) and deep learning. RL considers the problem of a computational agent learning to make decisions by trial and error. Deep RL incorporates deep learning into the solution, allowing agents to make decisions from unstructured input data without manual engineering of the state space. Deep RL algorithms are able to take in very large inputs (e.g. every pixel rendered to the screen in a video game) and decide what actions to perform to optimize an objective (e.g. maximizing the game score). Deep reinforcement learning has been used for a diverse set of applications including but not limited to robotics, video games, natural language processing, computer vision, education, transportation, finance and healthcare.\n",
      "\n",
      "Page: Deep Learning (South Park)\n",
      "Summary: \"Deep Learning\" is the fourth episode of the twenty-sixth season of the American animated television series South Park, and the 323rd episode of the series overall. Written and directed by Trey Parker, it premiered on March 8, 2023. The episode, which parodies the use of the artificial intelligence chatbot ChatGPT (which is credited as a co-writer for the episode) for text messages, centers upon fourth-grader Stan Marsh, who comes to rely on the software for writing both school essays and romantic texts to his girlfriend Wendy Testaburger, bringing him into conflict with her, his classmates, and school officials.\n"
     ]
    }
   ],
   "source": [
    "print(r)"
   ]
  },
  {
   "cell_type": "code",
   "execution_count": 28,
   "metadata": {},
   "outputs": [],
   "source": [
    "template1 = \"\"\"\n",
    "Você é um ótimo designer de internet, focado em vídeos do YouTube e irá ajudar pessoas a criarem vídeos para o YouTube.\n",
    "Atente-se às instruções passadas e seja o mais preciso possível na criação do script dadas as informações abaixo. Lembre-se,\n",
    "as respostas devem ser feitas todas em português do Brasil.\n",
    "\"\"\"\n",
    "\n",
    "template3 = \"\"\"\n",
    "\"Dado o título = '{title}', crie um script para um vídeo, sem erros gramaticais de português do Brasil.\n",
    "\n",
    "Para o desenvolvimento do script, você deve usar o conteúdo adicional abaixo que vem da wikipedia:\n",
    "\n",
    "# CONTENT:\n",
    "{content_wiki}\n",
    "\n",
    "\n",
    "A estrutura do script tem que ser da seguinte forma: \n",
    "introdução, desenvolvimento, conclusão e outros. Não pode faltar nenhum desses tópicos.\n",
    "Abaixo está a estrutura do script do vídeo e cada etapa desse script:\n",
    "\n",
    "\n",
    "[TÍTULO]\n",
    "O Título vem aqui.\n",
    "\n",
    "[INTRODUÇÃO]\n",
    "Aqui o apresentador irá se apresentar e falar sobre o que será abordado no vídeo.\n",
    "\n",
    "[DESENVOLVIMENTO]\n",
    "Aqui o apresentador irá falar sobre alguns tópicos principais do vídeo.\n",
    "\n",
    "[CONCLUSÃO]\n",
    "Conclusão perfeita dos tópicos abordados no vídeo.\n",
    "\n",
    "[OUTROS]\n",
    "Aqui você deve dar ideias sobre como deve ser a tela de inscrição e like no vídeo baseado no tópico e conteúdo\n",
    "do vídeo abordado\n",
    "\"\"\""
   ]
  },
  {
   "cell_type": "code",
   "execution_count": 29,
   "metadata": {},
   "outputs": [],
   "source": [
    "from langchain.prompts import PromptTemplate\n",
    "\n",
    "prompt1 = PromptTemplate(\n",
    "    input_variables=[\"topic\"],\n",
    "    template=template1\n",
    ")\n",
    "\n",
    "prompt2 = PromptTemplate(\n",
    "    input_variables=[\"title\", \"content_wiki\"],\n",
    "    template=template2\n",
    ")"
   ]
  },
  {
   "cell_type": "code",
   "execution_count": 26,
   "metadata": {},
   "outputs": [
    {
     "name": "stdout",
     "output_type": "stream",
     "text": [
      "\n",
      "\"Você é um ótimo designer de internet, focado em vídeos do YouTube e irá ajudar a criar um título sempre em português do Brasil, \n",
      "baseado no tema abaixo:\n",
      "\n",
      "# CONTEXTO:\n",
      "receita culinária\n",
      "\n"
     ]
    }
   ],
   "source": [
    "print(prompt1.format(topic=\"receita culinária\"))"
   ]
  },
  {
   "cell_type": "code",
   "execution_count": 9,
   "metadata": {},
   "outputs": [
    {
     "name": "stdout",
     "output_type": "stream",
     "text": [
      "\n",
      "\"Dado o título = 'Lore de resident evil 3', crie um script para um vídeo, sem erros gramaticais de português do Brasil.\n",
      "A estrutura do script tem que ser da seguinte forma: \n",
      "introdução, desenvolvimento, conclusão e outros. Não pode faltar nenhum desses tópicos.\n",
      "Abaixo está a estrutura do script do vídeo e cada etapa desse script:\n",
      "\n",
      "[INTRODUÇÃO]\n",
      "Aqui o apresentador irá se apresentar e falar sobre o que será abordado no vídeo.\n",
      "\n",
      "[DESENVOLVIMENTO]\n",
      "Aqui o apresentador irá falar sobre alguns tópicos principais do vídeo.\n",
      "\n",
      "[CONCLUSÃO]\n",
      "Conclusão perfeita dos tópicos abordados no vídeo.\n",
      "\n",
      "[OUTROS]\n",
      "Aqui você deve dar ideias sobre como deve ser a tela de inscrição e like no vídeo baseado no tópico e conteúdo\n",
      "do vídeo abordado\n",
      "\n"
     ]
    }
   ],
   "source": [
    "print(prompt2.format(title=\"Lore de resident evil 3\"))"
   ]
  },
  {
   "cell_type": "code",
   "execution_count": 35,
   "metadata": {},
   "outputs": [],
   "source": [
    "from langchain.chat_models import ChatOpenAI\n",
    "from langchain.prompts.chat import ChatPromptTemplate\n",
    "\n",
    "topic = \"deep learning\"\n",
    "\n",
    "template = ChatPromptTemplate.from_messages([\n",
    "    (\"system\", template1),\n",
    "    (\"human\", topic),\n",
    "    (\"ai\", \"I'm doing well, thanks!\"),\n",
    "    (\"human\", \"{user_input}\"),\n",
    "])"
   ]
  },
  {
   "cell_type": "code",
   "execution_count": null,
   "metadata": {},
   "outputs": [],
   "source": [
    "from langchain.schema import StrOutputParser"
   ]
  },
  {
   "cell_type": "code",
   "execution_count": null,
   "metadata": {},
   "outputs": [],
   "source": [
    "chat = ChatOpenAI(temperature=0, openai_api_key=openai_api_key)"
   ]
  },
  {
   "cell_type": "code",
   "execution_count": null,
   "metadata": {},
   "outputs": [],
   "source": [
    "from langchain.chat_models import ChatOpenAI"
   ]
  },
  {
   "cell_type": "code",
   "execution_count": 30,
   "metadata": {},
   "outputs": [],
   "source": [
    "from langchain.chains import LLMChain, SequentialChain\n",
    "\n",
    "chain1 = LLMChain(\n",
    "    prompt=prompt1,\n",
    "    llm=llm,\n",
    "    output_key=\"title\"\n",
    ")\n",
    "\n",
    "chain2 = LLMChain(\n",
    "    prompt=prompt2,\n",
    "    llm=llm,\n",
    "    output_key=\"script\"\n",
    ")"
   ]
  },
  {
   "cell_type": "code",
   "execution_count": 31,
   "metadata": {},
   "outputs": [
    {
     "data": {
      "text/plain": [
       "'\\n\"Descubra os Fatos mais Surpreendentes sobre a História do Brasil!\"'"
      ]
     },
     "execution_count": 31,
     "metadata": {},
     "output_type": "execute_result"
    }
   ],
   "source": [
    "chain1.run({\n",
    "    \"topic\": \"sobre história do Brasil\"\n",
    "})"
   ]
  },
  {
   "cell_type": "code",
   "execution_count": 32,
   "metadata": {},
   "outputs": [],
   "source": [
    "wiki_content = wiki.run(\"história do Brasil\")"
   ]
  },
  {
   "cell_type": "code",
   "execution_count": 33,
   "metadata": {},
   "outputs": [],
   "source": [
    "resp = chain2.run({\n",
    "    \"title\": \"Descubra os Fatos mais Surpreendentes sobre a História do Brasil!\",\n",
    "    \"content_wiki\": wiki_content\n",
    "})"
   ]
  },
  {
   "cell_type": "code",
   "execution_count": 34,
   "metadata": {},
   "outputs": [
    {
     "name": "stdout",
     "output_type": "stream",
     "text": [
      "\n",
      "\n",
      "[TÍTULO]\n",
      "Descubra os Fatos mais Surpreendentes sobre a História do Brasil!\n",
      "\n",
      "[INTRODUÇÃO]\n",
      "Bem-vindo! Neste vídeo iremos descobrir alguns dos fatos mais surpreendentes sobre a história do Brasil. Como a maior nação da América do Sul, o Brasil é carregado de histórias fascinantes que valem a pena explorar. Acompanhe-me nesta jornada para descobrir as surpresas mais notáveis da história do Brasil.\n",
      "\n",
      "[DESENVOLVIMENTO]\n",
      "O Brasil é o maior país da América do Sul e da América Latina, cobrindo cerca de metade da área terrestre do continente. O país tem também um dos maiores ecossistemas em nosso planeta, a Amazônia - um lugar rico em biodiversidade e comum habitat\n"
     ]
    }
   ],
   "source": [
    "print(resp)"
   ]
  },
  {
   "cell_type": "code",
   "execution_count": 15,
   "metadata": {},
   "outputs": [],
   "source": [
    "combined_chain = SequentialChain(\n",
    "    chains=[chain1, chain2],\n",
    "    input_variables=[\"topic\"],\n",
    "    output_variables=[\"script\"],\n",
    "    verbose=True\n",
    ")"
   ]
  },
  {
   "cell_type": "code",
   "execution_count": 16,
   "metadata": {},
   "outputs": [
    {
     "name": "stdout",
     "output_type": "stream",
     "text": [
      "\n",
      "\n",
      "\u001b[1m> Entering new SequentialChain chain...\u001b[0m\n",
      "\n",
      "\u001b[1m> Finished chain.\u001b[0m\n"
     ]
    }
   ],
   "source": [
    "resp = combined_chain.run({\n",
    "    \"topic\": \"Lore de resident evil 3\"\n",
    "})"
   ]
  },
  {
   "cell_type": "code",
   "execution_count": 17,
   "metadata": {},
   "outputs": [
    {
     "name": "stdout",
     "output_type": "stream",
     "text": [
      "\n",
      "[Script]\n",
      "\n",
      "Olá, sou [apresentador] e estou aqui para explorar a lenda de Resident Evil 3: Um Olhar para o Passado! \n",
      "\n",
      "Neste vídeo, abordarei vários tópicos relacionados à história. Desde os personagens principais, passando pela cidade de Raccoon City à qual o jogo se passa, detalharemos os principais acontecimentos e personagens relacionados à trama para que possamos entender melhor a história.\n",
      "\n",
      "À medida que mergulhamos mais fundo na história, chegaremos a um concluir final perfeitamente sólido e interessante. Nós falaremos sobre os personagens principais e como eles desempenham seu papel na saga Resident Evil. Nós revisaremos a ação e os eventos principais que levaram à destruição de Raccoon City. Finalmente, falaremos sobre a\n"
     ]
    }
   ],
   "source": [
    "print(resp)"
   ]
  }
 ],
 "metadata": {
  "kernelspec": {
   "display_name": "venv",
   "language": "python",
   "name": "python3"
  },
  "language_info": {
   "codemirror_mode": {
    "name": "ipython",
    "version": 3
   },
   "file_extension": ".py",
   "mimetype": "text/x-python",
   "name": "python",
   "nbconvert_exporter": "python",
   "pygments_lexer": "ipython3",
   "version": "3.10.12"
  }
 },
 "nbformat": 4,
 "nbformat_minor": 2
}
